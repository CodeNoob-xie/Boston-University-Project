{
  "nbformat": 4,
  "nbformat_minor": 0,
  "metadata": {
    "colab": {
      "provenance": [],
      "authorship_tag": "ABX9TyOWMDE2f5KYrjLMXBrzliT6",
      "include_colab_link": true
    },
    "kernelspec": {
      "name": "python3",
      "display_name": "Python 3"
    },
    "language_info": {
      "name": "python"
    }
  },
  "cells": [
    {
      "cell_type": "markdown",
      "metadata": {
        "id": "view-in-github",
        "colab_type": "text"
      },
      "source": [
        "<a href=\"https://colab.research.google.com/github/CodeNoob-xie/Boston-University-Project/blob/main/cs677_classnote_1.ipynb\" target=\"_parent\"><img src=\"https://colab.research.google.com/assets/colab-badge.svg\" alt=\"Open In Colab\"/></a>"
      ]
    },
    {
      "source": [
        "def f(n):\n",
        "    if n == 1:\n",
        "        return 1\n",
        "    else:\n",
        "        return 2 ** n * f(n - 1)\n",
        "\n",
        "print(f(3))"
      ],
      "cell_type": "code",
      "metadata": {
        "colab": {
          "base_uri": "https://localhost:8080/"
        },
        "id": "PZLjyvtj06xc",
        "outputId": "f506188e-3721-41d8-b7da-4ec1ba74cb3a"
      },
      "execution_count": 3,
      "outputs": [
        {
          "output_type": "stream",
          "name": "stdout",
          "text": [
            "32\n"
          ]
        }
      ]
    },
    {
      "source": [
        "def compound_interest(s_balance, rate, t_periods):\n",
        "    return s_balance * (1 + rate) ** t_periods\n",
        "\n",
        "s_balance = 24\n",
        "years = 400  # sold in 1626\n",
        "\n",
        "for rate in range(1, 10):\n",
        "    e_balance = int(compound_interest(s_balance, rate / 100, years))\n",
        "    print('rate =', rate, 'final_balance =', f\"{e_balance:,d}\")"
      ],
      "cell_type": "code",
      "metadata": {
        "colab": {
          "base_uri": "https://localhost:8080/"
        },
        "id": "a7q8nCMvF7ci",
        "outputId": "b9a19b22-3fe8-4b75-f4b1-c7d0dea679d9"
      },
      "execution_count": 9,
      "outputs": [
        {
          "output_type": "stream",
          "name": "stdout",
          "text": [
            "rate = 1 final_balance = 1,284\n",
            "rate = 2 final_balance = 66,111\n",
            "rate = 3 final_balance = 3,274,169\n",
            "rate = 4 final_balance = 156,151,787\n",
            "rate = 5 final_balance = 7,176,800,429\n",
            "rate = 6 final_balance = 318,095,369,845\n",
            "rate = 7 final_balance = 13,605,744,645,294\n",
            "rate = 8 final_balance = 561,970,394,044,952\n",
            "rate = 9 final_balance = 22,429,026,185,144,604\n"
          ]
        }
      ]
    }
  ]
}